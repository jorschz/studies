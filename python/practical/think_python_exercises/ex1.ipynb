{
 "cells": [
  {
   "cell_type": "markdown",
   "id": "64dfd93a",
   "metadata": {},
   "source": [
    "What is the type of the value of the following expressions? Make your best guess for each one, and then use `type` to find out."
   ]
  },
  {
   "cell_type": "markdown",
   "id": "bacf50fa",
   "metadata": {},
   "source": [
    "* `765` integer. yes\n",
    "* `2.718` float. yes\n",
    "* `'2 pi'` string. yes\n",
    "* `abs(-7)` integer. yes\n",
    "* `abs(-7.0)` integer. no, é float.\n",
    "* `abs` function. half, o certo é \"builtin_function_or_method\"\n",
    "* `int`integer. no, seria \"type\"\n",
    "* `type`type. yes"
   ]
  },
  {
   "cell_type": "markdown",
   "id": "090cf223",
   "metadata": {},
   "source": [
    "The following questions give you a chance to practice writing arithmetic expressions."
   ]
  },
  {
   "cell_type": "code",
   "execution_count": 1,
   "id": "81022586",
   "metadata": {},
   "outputs": [
    {
     "name": "stdout",
     "output_type": "stream",
     "text": [
      "Total de segundos: 2562\n"
     ]
    },
    {
     "data": {
      "text/plain": [
       "'\\nBook Solution\\n42*60+42\\n'"
      ]
     },
     "execution_count": 1,
     "metadata": {},
     "output_type": "execute_result"
    }
   ],
   "source": [
    "#1.  How many seconds are there in 42 minutes 42 seconds?\n",
    "\n",
    "seconds = 42\n",
    "minutes = 42\n",
    "total_seconds = (minutes * 60) + seconds\n",
    "\n",
    "print(\"Total de segundos:\", total_seconds)\n",
    "\n",
    "\"\"\"\n",
    "Book Solution\n",
    "42*60+42\n",
    "\"\"\""
   ]
  },
  {
   "cell_type": "code",
   "execution_count": 2,
   "id": "1fb02c7c",
   "metadata": {},
   "outputs": [
    {
     "name": "stdout",
     "output_type": "stream",
     "text": [
      "Total miles: 6.211\n"
     ]
    },
    {
     "data": {
      "text/plain": [
       "'\\nBook Solution\\n10/1.61\\n'"
      ]
     },
     "execution_count": 2,
     "metadata": {},
     "output_type": "execute_result"
    }
   ],
   "source": [
    "#2. How many miles are there in 10 kilometers? Hint: there are 1.61 kilometers in a mile.\n",
    "\n",
    "kilometers = 10\n",
    "miles_to_kilometers = 1.61\n",
    "distance_miles = kilometers / miles_to_kilometers \n",
    "\n",
    "print(\"Total miles:\", round(distance_miles, 3))\n",
    "\n",
    "\"\"\"\n",
    "Book Solution\n",
    "10/1.61\n",
    "\"\"\""
   ]
  },
  {
   "cell_type": "code",
   "execution_count": 3,
   "id": "7beaadd3",
   "metadata": {},
   "outputs": [
    {
     "name": "stdout",
     "output_type": "stream",
     "text": [
      "Average pace: 412.48 seconds per mile\n"
     ]
    },
    {
     "data": {
      "text/plain": [
       "'\\nBook Solution\\n2562/6.21118\\n'"
      ]
     },
     "execution_count": 3,
     "metadata": {},
     "output_type": "execute_result"
    }
   ],
   "source": [
    "#3. If you run a 10 kilometer race in 42 minutes 42 seconds, what is your average pace in seconds per mile?\n",
    "\n",
    "# total_seconds from question 1 and distance_miles from question 2\n",
    "pace_seconds_per_mile = round(total_seconds / distance_miles, 2)\n",
    "\n",
    "print(f\"Average pace: {pace_seconds_per_mile} seconds per mile\")\n",
    "\n",
    "\"\"\"\n",
    "Book Solution\n",
    "2562/6.21118\n",
    "\"\"\""
   ]
  },
  {
   "cell_type": "code",
   "execution_count": 4,
   "id": "61b7aff8",
   "metadata": {},
   "outputs": [
    {
     "name": "stdout",
     "output_type": "stream",
     "text": [
      "Average pace: 6 minutes and 52 seconds per mile\n"
     ]
    },
    {
     "data": {
      "text/plain": [
       "'\\nBook Solution\\n412.48//60\\n412.48%60\\n'"
      ]
     },
     "execution_count": 4,
     "metadata": {},
     "output_type": "execute_result"
    }
   ],
   "source": [
    "#4. What is your average pace in minutes and seconds per mile?\n",
    "\n",
    "#pace_seconds_per_mile is from question 3\n",
    "minutes = int(pace_seconds_per_mile // 60)\n",
    "seconds = round(pace_seconds_per_mile % 60)\n",
    "\n",
    "print(f\"Average pace: {minutes} minutes and {seconds} seconds per mile\") \n",
    "\n",
    "\"\"\"\n",
    "Book Solution\n",
    "412.48//60\n",
    "412.48%60\n",
    "\"\"\""
   ]
  },
  {
   "cell_type": "code",
   "execution_count": 5,
   "id": "92a05564",
   "metadata": {},
   "outputs": [
    {
     "name": "stdout",
     "output_type": "stream",
     "text": [
      "average speed is 8.73 miles per hour\n"
     ]
    },
    {
     "data": {
      "text/plain": [
       "'\\nBook Solution\\n256/60/60\\n6.21118/0.711666\\n'"
      ]
     },
     "execution_count": 5,
     "metadata": {},
     "output_type": "execute_result"
    }
   ],
   "source": [
    "#5.What is your average speed in miles per hour?\n",
    "\n",
    "#Total_seconds from question 1 and distance_miles from question 2\n",
    "hours = total_seconds / 3600 #Converte segundos para horas\n",
    "average_speed_mph = distance_miles / hours\n",
    "\n",
    "print(f\"average speed is {round(average_speed_mph, 2)} miles per hour\")  \n",
    "\n",
    "\"\"\"\n",
    "Book Solution\n",
    "256/60/60\n",
    "6.21118/0.711666\n",
    "\"\"\""
   ]
  }
 ],
 "metadata": {
  "kernelspec": {
   "display_name": ".venv",
   "language": "python",
   "name": "python3"
  },
  "language_info": {
   "codemirror_mode": {
    "name": "ipython",
    "version": 3
   },
   "file_extension": ".py",
   "mimetype": "text/x-python",
   "name": "python",
   "nbconvert_exporter": "python",
   "pygments_lexer": "ipython3",
   "version": "3.12.3"
  }
 },
 "nbformat": 4,
 "nbformat_minor": 5
}

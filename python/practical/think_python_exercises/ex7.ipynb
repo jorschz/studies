{
 "cells": [
  {
   "cell_type": "code",
   "execution_count": 1,
   "id": "f5f7894d",
   "metadata": {},
   "outputs": [],
   "source": [
    "from doctest import run_docstring_examples\n",
    "\n",
    "\n",
    "def run_doctests(func):\n",
    "    run_docstring_examples(func, globals(), name=func.__name__, verbose=True)"
   ]
  },
  {
   "cell_type": "code",
   "execution_count": 2,
   "id": "d14a5425",
   "metadata": {},
   "outputs": [],
   "source": [
    "def uses_any(word, letters):\n",
    "    for letter in word.lower():\n",
    "        if letter in letters.lower():\n",
    "            return True\n",
    "    return False"
   ]
  },
  {
   "cell_type": "markdown",
   "id": "f599cd8f",
   "metadata": {},
   "source": [
    "Write a function named `uses_none` that takes a word and a string of forbidden letters, and returns `True` if the word does not use any of the forbidden letters.\n",
    "\n",
    "Here's an outline of the function that includes two doctests.\n",
    "Fill in the function so it passes these tests, and add at least one more doctest."
   ]
  },
  {
   "cell_type": "code",
   "execution_count": 3,
   "id": "7e2fd563",
   "metadata": {},
   "outputs": [
    {
     "name": "stdout",
     "output_type": "stream",
     "text": [
      "Finding tests in uses_none\n",
      "Trying:\n",
      "    uses_none('banana', 'xyz')\n",
      "Expecting:\n",
      "    True\n",
      "ok\n",
      "Trying:\n",
      "    uses_none('apple', 'efg')\n",
      "Expecting:\n",
      "    False\n",
      "ok\n",
      "Trying:\n",
      "    uses_none('', 'abc')\n",
      "Expecting:\n",
      "    True\n",
      "ok\n"
     ]
    }
   ],
   "source": [
    "# Solution goes here\n",
    "def uses_none(word, forbidden):\n",
    "    \"\"\"Checks whether a word avoid forbidden letters.\n",
    "\n",
    "    >>> uses_none('banana', 'xyz')\n",
    "    True\n",
    "    >>> uses_none('apple', 'efg')\n",
    "    False\n",
    "    >>> uses_none('', 'abc')\n",
    "    True\n",
    "    \"\"\"\n",
    "    for letter in word.lower():\n",
    "        if letter in forbidden.lower():\n",
    "            return False\n",
    "    return True\n",
    "\n",
    "\n",
    "run_doctests(uses_none)"
   ]
  },
  {
   "cell_type": "markdown",
   "id": "a9a0f8dc",
   "metadata": {},
   "source": [
    "Write a function called `uses_only` that takes a word and a string of letters, and that returns `True` if the word contains only letters in the string.\n",
    "\n",
    "Here's an outline of the function that includes two doctests.\n",
    "Fill in the function so it passes these tests, and add at least one more doctest."
   ]
  },
  {
   "cell_type": "code",
   "execution_count": 4,
   "id": "ac4ec3a7",
   "metadata": {},
   "outputs": [
    {
     "name": "stdout",
     "output_type": "stream",
     "text": [
      "Finding tests in uses_only\n",
      "Trying:\n",
      "    uses_only('banana', 'ban')\n",
      "Expecting:\n",
      "    True\n",
      "ok\n",
      "Trying:\n",
      "    uses_only('ratatat', 'rate')\n",
      "Expecting:\n",
      "    True\n",
      "ok\n",
      "Trying:\n",
      "    uses_only('apple', 'apl')\n",
      "Expecting:\n",
      "    False\n",
      "ok\n"
     ]
    }
   ],
   "source": [
    "# Solution goes here\n",
    "def uses_only(word, avaliable):\n",
    "    \"\"\"Checks wheter a word uses only the available letters\n",
    "\n",
    "    >>> uses_only('banana', 'ban')\n",
    "    True\n",
    "    >>> uses_only('ratatat', 'rate')\n",
    "    True\n",
    "    >>> uses_only('apple', 'apl')\n",
    "    False\n",
    "    \"\"\"\n",
    "    for letter in word.lower():\n",
    "        if letter not in avaliable.lower():\n",
    "            return False\n",
    "    return True\n",
    "\n",
    "\n",
    "run_doctests(uses_only)"
   ]
  },
  {
   "cell_type": "markdown",
   "id": "3a2b54b4",
   "metadata": {},
   "source": [
    "Write a function called `uses_all` that takes a word and a string of letters, and that returns `True` if the word contains all of the letters in the string at least once.\n",
    "\n",
    "Here's an outline of the function that includes two doctests.\n",
    "Fill in the function so it passes these tests, and add at least one more doctest."
   ]
  },
  {
   "cell_type": "code",
   "execution_count": 5,
   "id": "8116e218",
   "metadata": {},
   "outputs": [
    {
     "name": "stdout",
     "output_type": "stream",
     "text": [
      "Finding tests in uses_all\n",
      "Trying:\n",
      "    uses_all('banana', 'ban')\n",
      "Expecting:\n",
      "    True\n",
      "ok\n",
      "Trying:\n",
      "    uses_all('ratatat', 'rat')\n",
      "Expecting:\n",
      "    True\n",
      "ok\n",
      "Trying:\n",
      "    uses_all('apple', 'api')\n",
      "Expecting:\n",
      "    False\n",
      "ok\n"
     ]
    }
   ],
   "source": [
    "# Solution goes here\n",
    "def uses_all(word, required):\n",
    "    \"\"\"Checks whether a word uses all required letters.\n",
    "\n",
    "    >>> uses_all('banana', 'ban')\n",
    "    True\n",
    "    >>> uses_all('ratatat', 'rat')\n",
    "    True\n",
    "    >>> uses_all('apple', 'api')\n",
    "    False\n",
    "    \"\"\"\n",
    "    for letter in required.lower():\n",
    "        if letter not in word.lower():\n",
    "            return False\n",
    "    return True\n",
    "\n",
    "\n",
    "run_doctests(uses_all)"
   ]
  },
  {
   "cell_type": "markdown",
   "id": "e4cc77f9",
   "metadata": {},
   "source": [
    "\n",
    "*The New York Times* publishes a daily puzzle called \"Spelling Bee\" that challenges readers to spell as many words as possible using only seven letters, where one of the letters is required.\n",
    "The words must have at least four letters.\n",
    "\n",
    "For example, on the day I wrote this, the letters were `ACDLORT`, with `R` as the required letter.\n",
    "So \"color\" is an acceptable word, but \"told\" is not, because it does not use `R`, and \"rat\" is not because it has only three letters.\n",
    "Letters can be repeated, so \"ratatat\" is acceptable.\n",
    "\n",
    "Write a function called `check_word` that checks whether a given word is acceptable.\n",
    "It should take as parameters the word to check, a string of seven available letters, and a string containing the single required letter.\n",
    "You can use the functions you wrote in previous exercises.\n",
    "\n",
    "Here's an outline of the function that includes doctests.\n",
    "Fill in the function and then check that all tests pass."
   ]
  },
  {
   "cell_type": "code",
   "execution_count": 6,
   "id": "91134261",
   "metadata": {},
   "outputs": [
    {
     "name": "stdout",
     "output_type": "stream",
     "text": [
      "Finding tests in check_word\n",
      "Trying:\n",
      "    check_word('color', 'ACDLORT', 'R')\n",
      "Expecting:\n",
      "    True\n",
      "ok\n",
      "Trying:\n",
      "    check_word('ratatat', 'ACDLORT', 'R')\n",
      "Expecting:\n",
      "    True\n",
      "ok\n",
      "Trying:\n",
      "    check_word('rat', 'ACDLORT', 'R')\n",
      "Expecting:\n",
      "    False\n",
      "ok\n",
      "Trying:\n",
      "    check_word('told', 'ACDLORT', 'R')\n",
      "Expecting:\n",
      "    False\n",
      "ok\n",
      "Trying:\n",
      "    check_word('bee', 'ACDLORT', 'R')\n",
      "Expecting:\n",
      "    False\n",
      "ok\n"
     ]
    }
   ],
   "source": [
    "def check_word(word, available, required):\n",
    "    \"\"\"Check whether a word is acceptable.\n",
    "\n",
    "    >>> check_word('color', 'ACDLORT', 'R')\n",
    "    True\n",
    "    >>> check_word('ratatat', 'ACDLORT', 'R')\n",
    "    True\n",
    "    >>> check_word('rat', 'ACDLORT', 'R')\n",
    "    False\n",
    "    >>> check_word('told', 'ACDLORT', 'R')\n",
    "    False\n",
    "    >>> check_word('bee', 'ACDLORT', 'R')\n",
    "    False\n",
    "    \"\"\"\n",
    "    word = word.lower()\n",
    "    available = available.lower()\n",
    "    required = required.lower()\n",
    "\n",
    "    if len(word) < 4:\n",
    "        return False\n",
    "\n",
    "    if required not in word: #Could be `if not uses_all(word, required)`\n",
    "        return False\n",
    "\n",
    "    for letter in word:\n",
    "        if letter not in available:\n",
    "            return False\n",
    "\n",
    "    return True\n",
    "\t# Could have a `return uses_only(word, available)`\n",
    "\n",
    "\n",
    "run_doctests(check_word)"
   ]
  },
  {
   "cell_type": "markdown",
   "id": "5aa0c5d4",
   "metadata": {},
   "source": [
    "According to the \"Spelling Bee\" rules,\n",
    "\n",
    "* Four-letter words are worth 1 point each.\n",
    "\n",
    "* Longer words earn 1 point per letter.\n",
    "\n",
    "* Each puzzle includes at least one \"pangram\" which uses every letter. These are worth 7 extra points!\n",
    "\n",
    "Write a function called `score_word` that takes a word and a string of available letters and returns its score.\n",
    "You can assume that the word is acceptable.\n",
    "\n",
    "Again, here's an outline of the function with doctests."
   ]
  },
  {
   "cell_type": "code",
   "execution_count": 7,
   "id": "aa87459a",
   "metadata": {},
   "outputs": [
    {
     "name": "stdout",
     "output_type": "stream",
     "text": [
      "Finding tests in word_score\n",
      "Trying:\n",
      "    word_score('card', 'ACDLORT')\n",
      "Expecting:\n",
      "    1\n",
      "ok\n",
      "Trying:\n",
      "    word_score('color', 'ACDLORT')\n",
      "Expecting:\n",
      "    5\n",
      "ok\n",
      "Trying:\n",
      "    word_score('cartload', 'ACDLORT')\n",
      "Expecting:\n",
      "    15\n",
      "ok\n"
     ]
    }
   ],
   "source": [
    "def word_score(word, available):\n",
    "    \"\"\"Compute the score for an acceptable word.\n",
    "\n",
    "    >>> word_score('card', 'ACDLORT')\n",
    "    1\n",
    "    >>> word_score('color', 'ACDLORT')\n",
    "    5\n",
    "    >>> word_score('cartload', 'ACDLORT')\n",
    "    15\n",
    "    \"\"\"  \n",
    "  \n",
    "    letters = len(word)\n",
    "    \n",
    "    if letters == 4:\n",
    "        return 1\n",
    "    \n",
    "    if uses_all(word, available):\n",
    "        return letters + 7\n",
    "    else:\n",
    "        return letters\n",
    "    \n",
    "run_doctests(word_score)"
   ]
  },
  {
   "cell_type": "markdown",
   "id": "3923c1b7",
   "metadata": {},
   "source": [
    "You might have noticed that the functions you wrote in the previous exercises had a lot in common.\n",
    "In fact, they are so similar you can often use one function to write another.\n",
    "\n",
    "For example, if a word uses none of a set forbidden letters, that means it doesn't use any. So we can write a version of `uses_none` like this:\n",
    "\n",
    "```python\n",
    "def uses_none(word, forbidden):\n",
    "\treturn not uses_any(word, forbidden)\t\n",
    "```\n",
    "\n",
    "There is also a similarity between `uses_only` and `uses_all` that you can take advantage of.\n",
    "If you have a working version of `uses_only`, see if you can write a version of `uses_all` that calls `uses_only`."
   ]
  },
  {
   "cell_type": "code",
   "execution_count": 8,
   "id": "eaed2700",
   "metadata": {},
   "outputs": [
    {
     "name": "stdout",
     "output_type": "stream",
     "text": [
      "Finding tests in uses_all\n",
      "Trying:\n",
      "    uses_all('banana', 'ban')\n",
      "Expecting:\n",
      "    True\n",
      "ok\n",
      "Trying:\n",
      "    uses_all('ratatat', 'rat')\n",
      "Expecting:\n",
      "    True\n",
      "ok\n",
      "Trying:\n",
      "    uses_all('apple', 'api')\n",
      "Expecting:\n",
      "    False\n",
      "ok\n"
     ]
    }
   ],
   "source": [
    "def uses_all(word, required):\n",
    "    \"\"\"Checks whether a word uses all required letters.\n",
    "\n",
    "    >>> uses_all('banana', 'ban')\n",
    "    True\n",
    "    >>> uses_all('ratatat', 'rat')\n",
    "    True\n",
    "    >>> uses_all('apple', 'api')\n",
    "    False\n",
    "    \"\"\"\n",
    "    return uses_only(required, word)\n",
    "\n",
    "run_doctests(uses_all)"
   ]
  },
  {
   "cell_type": "markdown",
   "id": "196d3498",
   "metadata": {},
   "source": [
    "Now let's see if we can write `uses_all` based on `uses_any`."
   ]
  },
  {
   "cell_type": "code",
   "execution_count": 9,
   "id": "7eb69b0e",
   "metadata": {},
   "outputs": [
    {
     "name": "stdout",
     "output_type": "stream",
     "text": [
      "Finding tests in uses_all\n",
      "Trying:\n",
      "    uses_all('banana', 'ban')\n",
      "Expecting:\n",
      "    True\n",
      "ok\n",
      "Trying:\n",
      "    uses_all('ratatat', 'rat')\n",
      "Expecting:\n",
      "    True\n",
      "ok\n",
      "Trying:\n",
      "    uses_all('apple', 'api')\n",
      "Expecting:\n",
      "    False\n",
      "ok\n"
     ]
    }
   ],
   "source": [
    "def uses_all(word, required):\n",
    "    \"\"\"Checks whether a word uses all required letters.\n",
    "    \n",
    "    >>> uses_all('banana', 'ban')\n",
    "    True\n",
    "    >>> uses_all('ratatat', 'rat')\n",
    "    True\n",
    "    >>> uses_all('apple', 'api')\n",
    "    False\n",
    "    \"\"\"\n",
    "    for letters in required:\n",
    "        if not uses_any(word, letters):\n",
    "            return False\n",
    "    return True\n",
    "\n",
    "run_doctests(uses_all)"
   ]
  }
 ],
 "metadata": {
  "kernelspec": {
   "display_name": ".venv",
   "language": "python",
   "name": "python3"
  },
  "language_info": {
   "codemirror_mode": {
    "name": "ipython",
    "version": 3
   },
   "file_extension": ".py",
   "mimetype": "text/x-python",
   "name": "python",
   "nbconvert_exporter": "python",
   "pygments_lexer": "ipython3",
   "version": "3.12.3"
  }
 },
 "nbformat": 4,
 "nbformat_minor": 5
}

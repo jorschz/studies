{
 "cells": [
  {
   "cell_type": "markdown",
   "id": "6631b532",
   "metadata": {},
   "source": [
    "See if you can write a function that does the same thing as the shell command `!head`.\n",
    "It should take as arguments the name of a file to read, the number of lines to read, and the name of the file to write the lines into.\n",
    "If the third parameter is `None`, it should display the lines rather than write them to a file.\n",
    "\n",
    "Consider asking a virtual assistant for help, but if you do, tell it not to use a `with` statement or a `try` statement."
   ]
  }
 ],
 "metadata": {
  "kernelspec": {
   "display_name": ".venv",
   "language": "python",
   "name": "python3"
  },
  "language_info": {
   "codemirror_mode": {
    "name": "ipython",
    "version": 3
   },
   "file_extension": ".py",
   "mimetype": "text/x-python",
   "name": "python",
   "nbconvert_exporter": "python",
   "pygments_lexer": "ipython3",
   "version": "3.12.3"
  }
 },
 "nbformat": 4,
 "nbformat_minor": 5
}

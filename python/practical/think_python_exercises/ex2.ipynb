{
 "cells": [
  {
   "cell_type": "code",
   "execution_count": 5,
   "id": "e78ae572",
   "metadata": {},
   "outputs": [],
   "source": [
    "import math"
   ]
  },
  {
   "cell_type": "markdown",
   "id": "1fd9b577",
   "metadata": {},
   "source": [
    "Making errors on purpose\n",
    "\n",
    "- `n = 17` is legal but `17 = n` is a SyntaxError \"cannot assign to literal\"\n",
    "- `x = y = 1` is legal\n",
    "- using a `;` actually happens nothing? \n",
    "- Using the name fro ma module wrong comes a \"NameError\" "
   ]
  },
  {
   "cell_type": "markdown",
   "id": "ecfad880",
   "metadata": {},
   "source": [
    "---"
   ]
  },
  {
   "cell_type": "markdown",
   "id": "870dd35c",
   "metadata": {},
   "source": [
    "The volume of a sphere with radius $r$ is $\\frac{4}{3} \\pi r^3$.\n",
    "What is the volume of a sphere with radius 5? Start with a variable named `radius` and then assign the result to a variable named `volume`. Display the result. Add comments to indicate that `radius` is in centimeters and `volume` in cubic centimeters."
   ]
  },
  {
   "cell_type": "code",
   "execution_count": 6,
   "id": "960cce10",
   "metadata": {},
   "outputs": [
    {
     "name": "stdout",
     "output_type": "stream",
     "text": [
      "523.599\n"
     ]
    }
   ],
   "source": [
    "r = 5 #radius in centimeters\n",
    "v = (4/3) * math.pi * (r ** 3) #volume in cubic centimeters\n",
    "\n",
    "print(round(v,3))"
   ]
  },
  {
   "cell_type": "markdown",
   "id": "c3f94f1c",
   "metadata": {},
   "source": [
    "A rule of trigonometry says that for any value of $x$, $(\\cos x)^2 + (\\sin x)^2 = 1$. Let's see if it's true for a specific value of $x$ like 42.\n",
    "\n",
    "Create a variable named `x` with this value. Then use `math.cos` and `math.sin` to compute the sine and cosine of $x$, and the sum of their squared. \n",
    "\n",
    "The result should be close to 1. It might not be exactly 1 because floating-point arithmetic is not exact---it is only approximately correct."
   ]
  },
  {
   "cell_type": "code",
   "execution_count": 7,
   "id": "f778c282",
   "metadata": {},
   "outputs": [
    {
     "name": "stdout",
     "output_type": "stream",
     "text": [
      "1\n"
     ]
    }
   ],
   "source": [
    "\n",
    "x = 42\n",
    "result = math.cos(x)**2 + math.sin(x)**2\n",
    "\n",
    "print(f\"{result:.0f}\")"
   ]
  },
  {
   "cell_type": "markdown",
   "id": "01fd241d",
   "metadata": {},
   "source": [
    "In addition to `pi`, the other variable defined in the `math` module is `e`, which represents the base of the natural logarithm, written in math notation as $e$. If you are not familiar with this value, ask a virtual assistant \"What is `math.e`?\" Now let's compute $e^2$ three ways: \n",
    "\n",
    "* Use `math.e` and the exponentiation operator (`**`).\n",
    "\n",
    "* Use `math.pow` to raise `math.e` to the power `2`.\n",
    "\n",
    "* Use `math.exp`, which takes as an argument a value, $x$, and computes $e^x$.\n",
    "\n",
    "You might notice that the last result is slightly different from the other two. See if you can find out which is correct."
   ]
  },
  {
   "cell_type": "code",
   "execution_count": 8,
   "id": "932f1a08",
   "metadata": {},
   "outputs": [
    {
     "name": "stdout",
     "output_type": "stream",
     "text": [
      "e^2: 7.3890560989306495 \n",
      "pow(2): 7.3890560989306495 \n",
      "exp: 7.38905609893065 \n",
      " \n"
     ]
    }
   ],
   "source": [
    "first = math.e ** 2\n",
    "second = math.pow(math.e, 2)\n",
    "third = math.exp(2)\n",
    "\n",
    "print (f\"e^2: {first} \\npow(2): {second} \\nexp: {third} \\n \")"
   ]
  }
 ],
 "metadata": {
  "kernelspec": {
   "display_name": ".venv",
   "language": "python",
   "name": "python3"
  },
  "language_info": {
   "codemirror_mode": {
    "name": "ipython",
    "version": 3
   },
   "file_extension": ".py",
   "mimetype": "text/x-python",
   "name": "python",
   "nbconvert_exporter": "python",
   "pygments_lexer": "ipython3",
   "version": "3.12.3"
  }
 },
 "nbformat": 4,
 "nbformat_minor": 5
}

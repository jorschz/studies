{
 "cells": [
  {
   "cell_type": "code",
   "execution_count": 1,
   "id": "b359d676",
   "metadata": {},
   "outputs": [],
   "source": [
    "import math"
   ]
  },
  {
   "cell_type": "markdown",
   "id": "f2406462",
   "metadata": {},
   "source": [
    "Use incremental development to write a function called `hypot` that returns the length of the hypotenuse of a right triangle given the lengths of the other two legs as arguments.\n",
    "\n",
    "Note: There's a function in the math module called `hypot` that does the same thing, but you should not use it for this exercise!\n",
    "\n",
    "Even if you can write the function correctly on the first try, start with a function that always returns `0` and practice making small changes, testing as you go.\n",
    "When you are done, the function should only return a value -- it should not display anything."
   ]
  },
  {
   "cell_type": "code",
   "execution_count": 2,
   "id": "0d4837b4",
   "metadata": {},
   "outputs": [],
   "source": [
    "# Consider the function name and the inputs (parameters) and what is the output (return value)\n",
    "def hypot_initial(a, b):\n",
    "    return 0"
   ]
  },
  {
   "cell_type": "code",
   "execution_count": 3,
   "id": "abbb2291",
   "metadata": {},
   "outputs": [
    {
     "data": {
      "text/plain": [
       "0"
      ]
     },
     "execution_count": 3,
     "metadata": {},
     "output_type": "execute_result"
    }
   ],
   "source": [
    "hypot_initial(3,4)"
   ]
  },
  {
   "cell_type": "code",
   "execution_count": 4,
   "id": "f80a90a8",
   "metadata": {},
   "outputs": [],
   "source": [
    "# Start adding code to the body.\n",
    "def hypot_1(a,b):\n",
    "    c = (a**2 + b**2)\n",
    "    print(f\"a = {a}, b = {b}, c = {c}\")"
   ]
  },
  {
   "cell_type": "code",
   "execution_count": 5,
   "id": "19b4eba0",
   "metadata": {},
   "outputs": [
    {
     "name": "stdout",
     "output_type": "stream",
     "text": [
      "a = 3, b = 4, c = 25\n"
     ]
    }
   ],
   "source": [
    "hypot_1(3,4)"
   ]
  },
  {
   "cell_type": "code",
   "execution_count": 6,
   "id": "37fbc440",
   "metadata": {},
   "outputs": [],
   "source": [
    "def hypot_2(a,b):\n",
    "    c = (a**2 + b**2)\n",
    "    result = math.sqrt(c)\n",
    "    print(f\"result = {result}\")"
   ]
  },
  {
   "cell_type": "code",
   "execution_count": 7,
   "id": "b63a07cb",
   "metadata": {},
   "outputs": [
    {
     "name": "stdout",
     "output_type": "stream",
     "text": [
      "result = 5.0\n"
     ]
    }
   ],
   "source": [
    "hypot_2(3,4)"
   ]
  },
  {
   "cell_type": "code",
   "execution_count": 8,
   "id": "0e4cd8fc",
   "metadata": {},
   "outputs": [],
   "source": [
    "def hypot_final(a,b):\n",
    "    c = (a**2 + b**2)\n",
    "    result = math.sqrt(c)\n",
    "    return result"
   ]
  },
  {
   "cell_type": "code",
   "execution_count": 9,
   "id": "23cc8fbb",
   "metadata": {},
   "outputs": [
    {
     "name": "stdout",
     "output_type": "stream",
     "text": [
      "5.0\n"
     ]
    }
   ],
   "source": [
    "hypot = hypot_final(3,4)\n",
    "print(hypot)"
   ]
  },
  {
   "cell_type": "code",
   "execution_count": 10,
   "id": "dc61bc67",
   "metadata": {},
   "outputs": [
    {
     "name": "stdout",
     "output_type": "stream",
     "text": [
      "5.0\n"
     ]
    }
   ],
   "source": [
    "# Ultimate version(?)\n",
    "def hypotenuse(a, b):\n",
    "    return math.sqrt(a**2 + b**2)\n",
    "\n",
    "print(hypotenuse(3,4))"
   ]
  },
  {
   "cell_type": "markdown",
   "id": "3a9b4e9d",
   "metadata": {},
   "source": [
    "Write a boolean function, `is_between(x, y, z)`, that returns `True` if $x < y < z$ or if\n",
    "$z < y < x$, and`False` otherwise."
   ]
  },
  {
   "cell_type": "code",
   "execution_count": 11,
   "id": "0109e2a3",
   "metadata": {},
   "outputs": [],
   "source": [
    "def is_between(x, y, z):\n",
    "    return (x < y < z) or (z < y < x)\n",
    "\n",
    "#Book solution\n",
    "# def is_between(x, y, z):\n",
    "#     if x < y < z:\n",
    "#         return True\n",
    "#     else:\n",
    "#         return z < y < x"
   ]
  },
  {
   "cell_type": "code",
   "execution_count": 12,
   "id": "3d6ba3cf",
   "metadata": {},
   "outputs": [
    {
     "data": {
      "text/plain": [
       "True"
      ]
     },
     "execution_count": 12,
     "metadata": {},
     "output_type": "execute_result"
    }
   ],
   "source": [
    "is_between(1, 2, 3)"
   ]
  },
  {
   "cell_type": "code",
   "execution_count": 13,
   "id": "87a61109",
   "metadata": {},
   "outputs": [
    {
     "data": {
      "text/plain": [
       "True"
      ]
     },
     "execution_count": 13,
     "metadata": {},
     "output_type": "execute_result"
    }
   ],
   "source": [
    "is_between(3, 2, 1)"
   ]
  },
  {
   "cell_type": "code",
   "execution_count": 14,
   "id": "5c26540d",
   "metadata": {},
   "outputs": [
    {
     "data": {
      "text/plain": [
       "False"
      ]
     },
     "execution_count": 14,
     "metadata": {},
     "output_type": "execute_result"
    }
   ],
   "source": [
    "is_between(1, 3, 2)"
   ]
  },
  {
   "cell_type": "code",
   "execution_count": 15,
   "id": "534fdc13",
   "metadata": {},
   "outputs": [
    {
     "data": {
      "text/plain": [
       "False"
      ]
     },
     "execution_count": 15,
     "metadata": {},
     "output_type": "execute_result"
    }
   ],
   "source": [
    "is_between(2, 3, 1)"
   ]
  },
  {
   "cell_type": "markdown",
   "id": "61b29e80",
   "metadata": {},
   "source": [
    "The Ackermann function, $A(m, n)$, is defined:\n",
    "\n",
    "$$\n",
    "\\begin{aligned}\n",
    "A(m, n) = \\begin{cases}\n",
    "              n+1 & \\text{if } m = 0 \\\\\n",
    "        A(m-1, 1) & \\text{if } m > 0 \\text{ and } n = 0 \\\\\n",
    "A(m-1, A(m, n-1)) & \\text{if } m > 0 \\text{ and } n > 0.\n",
    "\\end{cases}\n",
    "\\end{aligned}\n",
    "$$\n",
    "\n",
    "\n",
    "Write a function named `ackermann` that evaluates the Ackermann function.\n",
    "What happens if you call `ackermann(5, 5)`?"
   ]
  },
  {
   "cell_type": "code",
   "execution_count": 16,
   "id": "b0687a96",
   "metadata": {},
   "outputs": [
    {
     "data": {
      "text/plain": [
       "'\\nIn the book:\\n\\n if m == 0:\\n        return n+1\\n    if n == 0:\\n        return ackermann(m-1, 1)\\n    return ackermann(m-1, ackermann(m, n-1))\\n'"
      ]
     },
     "execution_count": 16,
     "metadata": {},
     "output_type": "execute_result"
    }
   ],
   "source": [
    "def ackermann(m, n):\n",
    "    if m == 0:\n",
    "        return n + 1\n",
    "    elif m > 0 and n == 0:\n",
    "        return ackermann(m - 1, 1)\n",
    "    elif m > 0 and n > 0:\n",
    "        return ackermann(m - 1, ackermann(m, n - 1))\n",
    "    else:\n",
    "        return None\n",
    "    \n",
    "\"\"\"\n",
    "In the book:\n",
    "\n",
    " if m == 0:\n",
    "        return n+1\n",
    "    if n == 0:\n",
    "        return ackermann(m-1, 1)\n",
    "    return ackermann(m-1, ackermann(m, n-1))\n",
    "\"\"\""
   ]
  },
  {
   "cell_type": "code",
   "execution_count": 17,
   "id": "57bc1f0a",
   "metadata": {},
   "outputs": [],
   "source": [
    "# Any values bigger than 4 will get a RecursionError\n",
    "# ackermann(5,5)"
   ]
  },
  {
   "cell_type": "code",
   "execution_count": 18,
   "id": "c4356d58",
   "metadata": {},
   "outputs": [
    {
     "data": {
      "text/plain": [
       "29"
      ]
     },
     "execution_count": 18,
     "metadata": {},
     "output_type": "execute_result"
    }
   ],
   "source": [
    "ackermann(3, 2)"
   ]
  },
  {
   "cell_type": "code",
   "execution_count": 19,
   "id": "72e782f2",
   "metadata": {},
   "outputs": [
    {
     "data": {
      "text/plain": [
       "61"
      ]
     },
     "execution_count": 19,
     "metadata": {},
     "output_type": "execute_result"
    }
   ],
   "source": [
    "ackermann(3, 3)  # should be 61"
   ]
  },
  {
   "cell_type": "code",
   "execution_count": 20,
   "id": "d51a8977",
   "metadata": {},
   "outputs": [
    {
     "data": {
      "text/plain": [
       "125"
      ]
     },
     "execution_count": 20,
     "metadata": {},
     "output_type": "execute_result"
    }
   ],
   "source": [
    "ackermann(3, 4)  # should be 125"
   ]
  },
  {
   "cell_type": "markdown",
   "id": "9445fc02",
   "metadata": {},
   "source": [
    "A number, $a$, is a power of $b$ if it is divisible by $b$ and $a/b$ is\n",
    "a power of $b$. Write a function called `is_power` that takes parameters\n",
    "`a` and `b` and returns `True` if `a` is a power of `b`. Note: you will\n",
    "have to think about the base case."
   ]
  },
  {
   "cell_type": "code",
   "execution_count": 21,
   "id": "9b66fef2",
   "metadata": {},
   "outputs": [],
   "source": [
    "def is_power(a, b):\n",
    "    if a == 1:\n",
    "        return True\n",
    "    \n",
    "    if a%b == 0:\n",
    "        return is_power(a//b, b)\n",
    "    else:\n",
    "        return False"
   ]
  },
  {
   "cell_type": "code",
   "execution_count": 22,
   "id": "4b44a2c1",
   "metadata": {},
   "outputs": [
    {
     "data": {
      "text/plain": [
       "True"
      ]
     },
     "execution_count": 22,
     "metadata": {},
     "output_type": "execute_result"
    }
   ],
   "source": [
    "is_power(65536, 2)   # should be True"
   ]
  },
  {
   "cell_type": "code",
   "execution_count": 23,
   "id": "d3b0f4a1",
   "metadata": {},
   "outputs": [
    {
     "data": {
      "text/plain": [
       "True"
      ]
     },
     "execution_count": 23,
     "metadata": {},
     "output_type": "execute_result"
    }
   ],
   "source": [
    "is_power(27, 3)  # should be True"
   ]
  },
  {
   "cell_type": "code",
   "execution_count": 24,
   "id": "2afd6fcd",
   "metadata": {},
   "outputs": [
    {
     "data": {
      "text/plain": [
       "False"
      ]
     },
     "execution_count": 24,
     "metadata": {},
     "output_type": "execute_result"
    }
   ],
   "source": [
    "is_power(24, 2)  # should be False"
   ]
  },
  {
   "cell_type": "code",
   "execution_count": 25,
   "id": "a3dc88f4",
   "metadata": {},
   "outputs": [
    {
     "data": {
      "text/plain": [
       "True"
      ]
     },
     "execution_count": 25,
     "metadata": {},
     "output_type": "execute_result"
    }
   ],
   "source": [
    "is_power(1, 17)   # should be True"
   ]
  },
  {
   "cell_type": "markdown",
   "id": "d30b8e76",
   "metadata": {},
   "source": [
    "The greatest common divisor (GCD) of $a$ and $b$ is the largest number\n",
    "that divides both of them with no remainder.\n",
    "\n",
    "One way to find the GCD of two numbers is based on the observation that\n",
    "if $r$ is the remainder when $a$ is divided by $b$, then $gcd(a,\n",
    "b) = gcd(b, r)$. As a base case, we can use $gcd(a, 0) = a$.\n",
    "\n",
    "Write a function called `gcd` that takes parameters `a` and `b` and\n",
    "returns their greatest common divisor."
   ]
  },
  {
   "cell_type": "code",
   "execution_count": 26,
   "id": "76e9359e",
   "metadata": {},
   "outputs": [],
   "source": [
    "def gcd(a, b):\n",
    "    print(a, b)\n",
    "    if b == 0:\n",
    "        return a\n",
    "    else:\n",
    "        r = a%b\n",
    "        return gcd(b, r)"
   ]
  },
  {
   "cell_type": "code",
   "execution_count": 27,
   "id": "c1ba2b93",
   "metadata": {},
   "outputs": [
    {
     "name": "stdout",
     "output_type": "stream",
     "text": [
      "12 8\n",
      "8 4\n",
      "4 0\n"
     ]
    },
    {
     "data": {
      "text/plain": [
       "4"
      ]
     },
     "execution_count": 27,
     "metadata": {},
     "output_type": "execute_result"
    }
   ],
   "source": [
    "gcd(12, 8)    # should be 4"
   ]
  },
  {
   "cell_type": "code",
   "execution_count": 28,
   "id": "dc490f3f",
   "metadata": {},
   "outputs": [
    {
     "name": "stdout",
     "output_type": "stream",
     "text": [
      "13 17\n",
      "17 13\n",
      "13 4\n",
      "4 1\n",
      "1 0\n"
     ]
    },
    {
     "data": {
      "text/plain": [
       "1"
      ]
     },
     "execution_count": 28,
     "metadata": {},
     "output_type": "execute_result"
    }
   ],
   "source": [
    "gcd(13,17)   # should be 1"
   ]
  }
 ],
 "metadata": {
  "kernelspec": {
   "display_name": ".venv",
   "language": "python",
   "name": "python3"
  },
  "language_info": {
   "codemirror_mode": {
    "name": "ipython",
    "version": 3
   },
   "file_extension": ".py",
   "mimetype": "text/x-python",
   "name": "python",
   "nbconvert_exporter": "python",
   "pygments_lexer": "ipython3",
   "version": "3.12.3"
  }
 },
 "nbformat": 4,
 "nbformat_minor": 5
}

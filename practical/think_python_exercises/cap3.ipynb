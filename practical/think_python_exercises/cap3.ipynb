{
 "cells": [
  {
   "cell_type": "markdown",
   "id": "722a84a5",
   "metadata": {},
   "source": [
    "Write a function named `print_right` that takes a string named `text` as a parameter and prints the string with enough leading spaces that the last letter of the string is in the 40th column of the display."
   ]
  },
  {
   "cell_type": "code",
   "execution_count": null,
   "id": "fcc8cdce",
   "metadata": {},
   "outputs": [],
   "source": [
    "def print_right(text):\n",
    "    espaco = 40 - len(text)\n",
    "    print(\" \" * espaco + text)\n",
    "\n",
    "\n",
    "print_right(\"Monty\")\n",
    "print_right(\"Python's\")\n",
    "print_right(\"Flying Circus\")\n",
    "\n",
    "#No livro ele cria variavel `columns = 40` e `space = ' '` invez de colocar o numero e o espaço direto, possivelmente para ter mais reutilização."
   ]
  },
  {
   "cell_type": "markdown",
   "id": "167ff8fe",
   "metadata": {},
   "source": [
    "Write a function called `triangle` that takes a string and an integer and draws a pyramid with the given height, made up using copies of the string. Here's an example of a pyramid with `5` levels, using the string `'L'`."
   ]
  },
  {
   "cell_type": "code",
   "execution_count": null,
   "id": "4a8973d3",
   "metadata": {},
   "outputs": [],
   "source": [
    "def triangle(string, x):\n",
    "    for i in range(x):\n",
    "        space = x - i - 1\n",
    "        repeat = 2 * i + 1\n",
    "        line = (' ' * space) + (string * repeat)\n",
    "        print(line)\n",
    "        \n",
    "triangle('L', 5)\n",
    "\n",
    "\"\"\"\n",
    "#Book Solution\n",
    "def triangle(string, height):\n",
    "\tfor i in range(height+1):\n",
    "\t\tprint(string * i)\n",
    "\"\"\""
   ]
  },
  {
   "cell_type": "markdown",
   "id": "b8450507",
   "metadata": {},
   "source": [
    "Write a function called `rectangle` that takes a string and two integers and draws a rectangle with the given width and height, made up using copies of the string. Here's an example of a rectangle with width `5` and height `4`, made up of the string `'H'`."
   ]
  },
  {
   "cell_type": "code",
   "execution_count": null,
   "id": "8f541d1f",
   "metadata": {},
   "outputs": [],
   "source": [
    "def rectangle(string, width, height):\n",
    "    # Caso altura 0\n",
    "    if height == 0:\n",
    "        return None\n",
    "    \n",
    "    # Linha superior (sempre existe)\n",
    "    print(string * width)\n",
    "    \n",
    "    # Linhas do meio (se altura > 2)\n",
    "    for i in range(height - 2):  # -2 porque já imprimimos topo e fundo\n",
    "        if width == 1:\n",
    "            print(string)\n",
    "        else:\n",
    "            print(string + \" \" * (width - 2) + string)\n",
    "    \n",
    "    # Linha inferior (se altura > 1)\n",
    "    if height > 1:\n",
    "        print(string * width)  \n",
    "\n",
    "rectangle(\n",
    "\tinput(\"Character: \"),\n",
    " \tint(input(\"Largura: \")),\n",
    "    int(input(\"Altura: \"))\n",
    ")\n",
    "\n",
    "\"\"\"\n",
    "Book Solution\n",
    "def rectangle(string, x, y):\n",
    "    for i in range(y):\n",
    "        print(string * x)\n",
    "        \n",
    "rectangle('H', 5, 4)\n",
    "\"\"\"\n"
   ]
  },
  {
   "cell_type": "markdown",
   "id": "d44873aa",
   "metadata": {},
   "source": [
    "The song \"99 Bottles of Beer\" starts with this verse:\n",
    "\n",
    "> 99 bottles of beer on the wall  \n",
    "> 99 bottles of beer  \n",
    "> Take one down, pass it around  \n",
    "> 98 bottles of beer on the wall  \n",
    "\n",
    "Then the second verse is the same, except that it starts with 98 bottles and ends with 97. The song continues -- for a very long time -- until there are 0 bottles of beer.\n",
    "\n",
    "Write a function called `bottle_verse` that takes a number as a parameter and displays the verse that starts with the given number of bottles.\n",
    "\n",
    "Hint: Consider starting with a function that can print the first, second, or last line of the verse, and then use it to write `bottle_verse`."
   ]
  },
  {
   "cell_type": "code",
   "execution_count": null,
   "id": "87314d54",
   "metadata": {},
   "outputs": [],
   "source": [
    "import time\n",
    "\n",
    "def bottle_str(n):\n",
    "    if n == 0:\n",
    "        return \"no more bottles\"\n",
    "    elif n == 1:\n",
    "        return \"1 bottle\"\n",
    "    else:\n",
    "        return f\"{n} bottles\"\n",
    "\n",
    "def bottle_verse(n):\n",
    "    line1 = f\"{bottle_str(n).capitalize()} of beer on the wall\"\n",
    "    line2 = f\"{bottle_str(n)} of beer\"\n",
    "    \n",
    "    if n > 0:\n",
    "        line3 = \"Take one down, pass it around\"\n",
    "        next_n = n - 1\n",
    "    else:\n",
    "        line3 = \"Go to the store and buy some more\"\n",
    "        next_n = 99\n",
    "        \n",
    "    line4 = f'{bottle_str(next_n)} of beer on the wall'\n",
    "    print(f\"{line1}\\n{line2}\\n{line3}\\n{line4}\\n\")\n",
    "    \n",
    "    \n",
    "def sing_song():\n",
    "    for num in range(99, -1, -1):\n",
    "        bottle_verse(num)\n",
    "        time.sleep(1)\n",
    "        \n",
    "sing_song()\n",
    "\n",
    "\"\"\"\n",
    "Book Solution\n",
    "\n",
    "def bottle_line(n, suffix):\n",
    "    print(n, 'bottles of beer', suffix)\n",
    "    \n",
    "def bottle_verse(n):\n",
    "\tbottle_line(n, 'on the wall')\n",
    "\tbottle_line(n, '')\n",
    "\tprint('Take one down, pass it around')\n",
    "\tbottle_line(n-1, 'on the wall')\n",
    "\n",
    "bottle_verse(99)\n",
    "\n",
    "for n in range(99, 0, -1):\n",
    "    bottle_verse(n)\n",
    "    print()\n",
    "\"\"\""
   ]
  }
 ],
 "metadata": {
  "kernelspec": {
   "display_name": ".venv",
   "language": "python",
   "name": "python3"
  },
  "language_info": {
   "codemirror_mode": {
    "name": "ipython",
    "version": 3
   },
   "file_extension": ".py",
   "mimetype": "text/x-python",
   "name": "python",
   "nbconvert_exporter": "python",
   "pygments_lexer": "ipython3",
   "version": "3.12.3"
  }
 },
 "nbformat": 4,
 "nbformat_minor": 5
}

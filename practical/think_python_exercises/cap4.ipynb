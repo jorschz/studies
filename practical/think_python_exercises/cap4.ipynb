{
 "cells": [
  {
   "cell_type": "markdown",
   "id": "a4a1b72d",
   "metadata": {},
   "source": [
    "# Not Working"
   ]
  },
  {
   "cell_type": "code",
   "execution_count": null,
   "id": "af23f7ab",
   "metadata": {},
   "outputs": [],
   "source": [
    "from ipyturtle import Turtle\n",
    "import math"
   ]
  },
  {
   "cell_type": "markdown",
   "id": "118736d5",
   "metadata": {},
   "source": [
    "Write a function called `rectangle` that draws a rectangle with given side lengths. For example, here's a rectangle that's `80` units wide and `40` units tall."
   ]
  },
  {
   "cell_type": "code",
   "execution_count": null,
   "id": "bc3cb724",
   "metadata": {},
   "outputs": [],
   "source": [
    "def rectangle(t, width, height):\n",
    "    for _ in range(2):\n",
    "        t.forward(width)\n",
    "        t.left(90)\n",
    "        t.forward(height)\n",
    "        t.left(90)\n",
    "\n",
    "t = Turtle()\n",
    "rectangle(t, width=80, height=90)\n",
    "\n",
    "t "
   ]
  },
  {
   "cell_type": "markdown",
   "id": "20f1a4ed",
   "metadata": {},
   "source": [
    "Write a function called `rhombus` that draws a rhombus with a given side length and a given interior angle. For example, here's a rhombus with side length `50` and an interior angle of `60` degrees."
   ]
  },
  {
   "cell_type": "code",
   "execution_count": null,
   "id": "f1bb0525",
   "metadata": {},
   "outputs": [],
   "source": [
    "def rhombus(t, slength, iangle):\n",
    "    for i in range(2):\n",
    "        t.left(iangle)\n",
    "        t.forward(slength)\n",
    "        t.left(180 - iangle)\n",
    "        t.forward(slength)\n",
    "        \n",
    "t = Turtle(width=371, height=184)\n",
    "rhombus(t, slength=80, iangle=90)"
   ]
  },
  {
   "cell_type": "markdown",
   "id": "39899626",
   "metadata": {},
   "source": [
    "Now write a more general function called `parallelogram` that draws a quadrilateral with parallel sides. Then rewrite `rectangle` and `rhombus` to use `parallelogram`."
   ]
  },
  {
   "cell_type": "code",
   "execution_count": null,
   "id": "26072665",
   "metadata": {},
   "outputs": [],
   "source": [
    "def parallelogram(t, side1, side2, angle):\n",
    "\tfor i in range(2):\n",
    "\t\tt.forward(side1)\n",
    "\t\tt.left(angle)\n",
    "\t\tt.forward(side2)\n",
    "\t\tt.left(180-angle)\n",
    "  \n",
    "def rectangle2():\n",
    "\tparallelogram(80, 40, 90)\n",
    " \n",
    "def rhombus2():\n",
    "\tparallelogram(50, 60, 90)\n",
    "# in the book rectangle2 and rhombus2 passs: (length, angle, etc)\n",
    " \n",
    "t = Turtle(width=400)\n",
    "t.jump(-120)\n",
    "\n",
    "rectangle2()\n",
    "t.jump(100)\n",
    "rhombus2()\n",
    "t.jump(80)\n",
    "parallelogram(80, 50, 60)"
   ]
  },
  {
   "cell_type": "markdown",
   "id": "fed91a16",
   "metadata": {},
   "source": [
    "Write an appropriately general set of functions that can draw shapes like this. (pizza format)\n",
    "\n",
    "Hint: Write a function called `triangle` that draws one triangular segment, and then a function called `draw_pie` that uses `triangle`.\n",
    " "
   ]
  },
  {
   "cell_type": "code",
   "execution_count": null,
   "id": "e66d3a40",
   "metadata": {},
   "outputs": [],
   "source": [
    "# Solution goes here\n",
    "\n",
    "# def triangle(side, angle):\n",
    "# \tfor i in range(3):\n",
    "# \t\tforward(side)\n",
    "# \t\tleft(angle)\n",
    "# make_turtle()\n",
    "# triangle(50, 120)\n",
    "\n",
    "def triangle(t, radius, angle):\n",
    "    y = radius * math.sin(angle*math.pi/180)\n",
    "    t.right(angle)\n",
    "    t.forward(radius)\n",
    "    t.left(90+angle)\n",
    "    t.forward(2*y)\n",
    "    t.left(90+angle)\n",
    "    t.forward(radius)\n",
    "    t.left(180-angle)\n",
    "\n",
    "t = Turtle()\n",
    "triangle(50, 120)"
   ]
  },
  {
   "cell_type": "code",
   "execution_count": null,
   "id": "c1ef6c04",
   "metadata": {},
   "outputs": [],
   "source": [
    "# Solution goes here\n",
    "\n",
    "# def draw_pie(side, angle):\n",
    "# \tfor i in range(6):\n",
    "# \t\ttriangle(side, angle)\n",
    "# \t\tleft(60) \n",
    "# make_turtle()\n",
    "# draw_pie(50,120)\n",
    "\n",
    "def draw_pie(t, n, radius):\n",
    "    angle = 360.0/n\n",
    "    for i in range(n):\n",
    "        triangle(radius, angle/2)\n",
    "        t.left(angle)"
   ]
  },
  {
   "cell_type": "code",
   "execution_count": null,
   "id": "94df864b",
   "metadata": {},
   "outputs": [],
   "source": [
    "t = Turtle()\n",
    "t.jump(-80)\n",
    "\n",
    "size = 40\n",
    "draw_pie(5, size)\n",
    "t.jump(2*size)\n",
    "draw_pie(6, size)\n",
    "t.jump(2*size)\n",
    "draw_pie(7, size)"
   ]
  },
  {
   "cell_type": "markdown",
   "id": "f9f6297c",
   "metadata": {},
   "source": [
    "Write an appropriately general set of functions that can draw flowers like this. (flower format) \n",
    "\n",
    "Hint: Use `arc` to write a function called `petal` that draws one flower petal.\n"
   ]
  },
  {
   "cell_type": "code",
   "execution_count": null,
   "id": "d44737d9",
   "metadata": {},
   "outputs": [],
   "source": [
    "def polyline(t, n, length, angle):\n",
    "    for i in range(n):\n",
    "        t.forward(length)\n",
    "        t.left(angle)\n",
    "        \n",
    "def arc(radius, angle):\n",
    "    arc_length = 2 * math.pi * radius * angle / 360\n",
    "    n = 30\n",
    "    length = arc_length / n\n",
    "    step_angle = angle / n\n",
    "    polyline(n, length, step_angle)"
   ]
  },
  {
   "cell_type": "code",
   "execution_count": null,
   "id": "66326ba4",
   "metadata": {},
   "outputs": [],
   "source": [
    "# Solution\n",
    "\n",
    "def petal(t, radius,  angle):\n",
    "    for i in range(2):\n",
    "        arc(radius,  angle)\n",
    "        t.left(180 - angle)"
   ]
  },
  {
   "cell_type": "code",
   "execution_count": null,
   "id": "a69bc36e",
   "metadata": {},
   "outputs": [],
   "source": [
    "#solution\n",
    "\n",
    "def flower(t, n, radius, angle):\n",
    "    for i in range(n):\n",
    "        petal(radius,  angle)\n",
    "        t.left(360.0/n)"
   ]
  },
  {
   "cell_type": "code",
   "execution_count": null,
   "id": "539839d7",
   "metadata": {},
   "outputs": [],
   "source": [
    "\n",
    "t = Turtle(auto_render=False)\n",
    "\n",
    "t.jump(-60)\n",
    "n = 7\n",
    "radius = 60\n",
    "angle = 60\n",
    "flower(n, radius, angle)\n",
    "\n",
    "t.jump(120)\n",
    "n = 9\n",
    "radius = 40\n",
    "angle = 85\n",
    "flower(n, radius, angle)\n",
    "\n",
    "render()"
   ]
  }
 ],
 "metadata": {
  "kernelspec": {
   "display_name": ".venv",
   "language": "python",
   "name": "python3"
  },
  "language_info": {
   "codemirror_mode": {
    "name": "ipython",
    "version": 3
   },
   "file_extension": ".py",
   "mimetype": "text/x-python",
   "name": "python",
   "nbconvert_exporter": "python",
   "pygments_lexer": "ipython3",
   "version": "3.12.3"
  }
 },
 "nbformat": 4,
 "nbformat_minor": 5
}
